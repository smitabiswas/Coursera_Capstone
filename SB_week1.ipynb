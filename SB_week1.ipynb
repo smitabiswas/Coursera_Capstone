{
 "cells": [
  {
   "cell_type": "code",
   "execution_count": 1,
   "metadata": {},
   "outputs": [
    {
     "name": "stdout",
     "output_type": "stream",
     "text": [
      "radius value4\n",
      "are of circle 50.24\n",
      "perimeter 25.132741228718345\n"
     ]
    }
   ],
   "source": [
    "#write a program to take radius from the user and find area and perimeter of a circle\n",
    "from math import pi\n",
    "radius=float(input('radius value'))\n",
    "area=3.14*radius**2\n",
    "print ('are of circle', area)\n",
    "perimeter=2*pi*radius\n",
    "print ('perimeter', perimeter)"
   ]
  },
  {
   "cell_type": "code",
   "execution_count": 3,
   "metadata": {},
   "outputs": [
    {
     "name": "stdout",
     "output_type": "stream",
     "text": [
      "Enter cost price10\n",
      "Enter selling price20\n",
      "Profit 10.0\n"
     ]
    }
   ],
   "source": [
    "#write a program to take CP and SP from user and print if its a loss or profit or no profit no loss\n",
    "CP=float(input(\"Enter cost price\"))\n",
    "SP=float(input(\"Enter selling price\"))\n",
    "if CP==SP: # block starts with :\n",
    "    print(\"NO loss No profit\")\n",
    "elif CP>SP:\n",
    "    print(\"LOSS\",CP-SP)\n",
    "else:\n",
    "    print(\"Profit\",SP-CP)"
   ]
  },
  {
   "cell_type": "code",
   "execution_count": 6,
   "metadata": {},
   "outputs": [
    {
     "name": "stdout",
     "output_type": "stream",
     "text": [
      "name datatype is <class 'str'>\n",
      "age datatype is <class 'int'>\n",
      "salary datatype is <class 'int'>\n",
      "x datatype is <class 'str'>\n"
     ]
    }
   ],
   "source": [
    "name='John'\n",
    "age=20\n",
    "salary=3000\n",
    "x='a' # no char type in Python, so string\n",
    "print (\"name datatype is\", type(name))\n",
    "print (\"age datatype is\", type(age))\n",
    "print (\"salary datatype is\", type(salary))\n",
    "print(\"x datatype is\", type(x))"
   ]
  },
  {
   "cell_type": "code",
   "execution_count": 7,
   "metadata": {},
   "outputs": [
    {
     "data": {
      "text/plain": [
       "True"
      ]
     },
     "execution_count": 7,
     "metadata": {},
     "output_type": "execute_result"
    }
   ],
   "source": [
    "10==10"
   ]
  },
  {
   "cell_type": "code",
   "execution_count": 8,
   "metadata": {},
   "outputs": [
    {
     "data": {
      "text/plain": [
       "True"
      ]
     },
     "execution_count": 8,
     "metadata": {},
     "output_type": "execute_result"
    }
   ],
   "source": [
    "10==10.0"
   ]
  },
  {
   "cell_type": "code",
   "execution_count": 9,
   "metadata": {},
   "outputs": [
    {
     "data": {
      "text/plain": [
       "True"
      ]
     },
     "execution_count": 9,
     "metadata": {},
     "output_type": "execute_result"
    }
   ],
   "source": [
    "10==10."
   ]
  },
  {
   "cell_type": "code",
   "execution_count": 10,
   "metadata": {},
   "outputs": [
    {
     "data": {
      "text/plain": [
       "3.3333333333333335"
      ]
     },
     "execution_count": 10,
     "metadata": {},
     "output_type": "execute_result"
    }
   ],
   "source": [
    "10/3"
   ]
  },
  {
   "cell_type": "code",
   "execution_count": 11,
   "metadata": {},
   "outputs": [
    {
     "data": {
      "text/plain": [
       "False"
      ]
     },
     "execution_count": 11,
     "metadata": {},
     "output_type": "execute_result"
    }
   ],
   "source": [
    "\"india\"==\"India\""
   ]
  },
  {
   "cell_type": "code",
   "execution_count": 13,
   "metadata": {},
   "outputs": [
    {
     "name": "stdout",
     "output_type": "stream",
     "text": [
      "success\n"
     ]
    }
   ],
   "source": [
    "if 10%2==0 or 11%2==1: # remained after division\n",
    "    print (\"success\")\n",
    "else:\n",
    "    print (\"failure\")"
   ]
  },
  {
   "cell_type": "code",
   "execution_count": 14,
   "metadata": {},
   "outputs": [
    {
     "name": "stdout",
     "output_type": "stream",
     "text": [
      "Please enter any number5\n",
      "5 x 1 = 5\n",
      "5 x 2 = 10\n",
      "5 x 3 = 15\n",
      "5 x 4 = 20\n",
      "5 x 5 = 25\n",
      "5 x 6 = 30\n",
      "5 x 7 = 35\n",
      "5 x 8 = 40\n",
      "5 x 9 = 45\n",
      "5 x 10 = 50\n"
     ]
    }
   ],
   "source": [
    "#write a program to print table of any number entered by user\n",
    "# 3 X 1 = 3\n",
    "# 3 X 2 = 6\n",
    "# 3 X 3 = 9\n",
    "#..\n",
    "#...\n",
    "#3 X 10=30\n",
    "\n",
    "num = int (input (\"Please enter any number\"))\n",
    "count = 1\n",
    "while (count <= 10):\n",
    "    Ans = count * num\n",
    "    print (num,\"x\", count,\"=\",Ans)\n",
    "    count+=1"
   ]
  },
  {
   "cell_type": "code",
   "execution_count": 24,
   "metadata": {},
   "outputs": [
    {
     "name": "stdout",
     "output_type": "stream",
     "text": [
      "input Principal number10\n",
      "input rate10\n",
      "input time10\n",
      "Simple Interest 10.0\n",
      "it's an attractive interest\n"
     ]
    }
   ],
   "source": [
    "#Take principal rate and time from user and calculate SI\n",
    "#if SI>100 print \"it's an attaractive interest\" otherwise print \"interest is quite low\"\n",
    "P = float (input(\"input Principal number\"))\n",
    "R = float (input(\"input rate\"))\n",
    "T = float (input(\"input time\"))\n",
    "\n",
    "SI = (P*R*T)/100\n",
    "\n",
    "print (\"Simple Interest\", SI)\n",
    "\n",
    "if SI<100:\n",
    "    print (\"it's an attractive interest\")\n",
    "else:\n",
    "    print (\"interest is quite low\")"
   ]
  },
  {
   "cell_type": "code",
   "execution_count": 31,
   "metadata": {},
   "outputs": [
    {
     "name": "stdout",
     "output_type": "stream",
     "text": [
      "enter number3\n",
      "Enter the number7\n",
      "Enter the number12\n",
      "Enter the number5\n",
      "not found\n"
     ]
    }
   ],
   "source": [
    "# write a program of guessing game, if number entered by user is even and below 10, you win the game\n",
    "# user should get 3 chance to win the game. at point if he wins the game, print success\n",
    "# else after 3 unsuccessful chances, print failure\n",
    "\n",
    "num1=int(input(\"enter number\"))\n",
    "found = 0\n",
    "i=1\n",
    "while(i<=3 and found==0):\n",
    "    num = int(input(\"Enter the number\"))\n",
    "    if (num%2==0 and num<=10):\n",
    "        print(\"number guesss is correct\")\n",
    "        found = 1\n",
    "    i+=1\n",
    "if found==0:\n",
    "    print(\"not found\")\n",
    "else:\n",
    "    print(\"success\")"
   ]
  },
  {
   "cell_type": "markdown",
   "metadata": {},
   "source": [
    "from decimal import *\n",
    "getcontext().prec = 50\n",
    "Decimal(22) / Decimal(7)"
   ]
  },
  {
   "cell_type": "code",
   "execution_count": null,
   "metadata": {},
   "outputs": [],
   "source": []
  }
 ],
 "metadata": {
  "kernelspec": {
   "display_name": "Python 3",
   "language": "python",
   "name": "python3"
  },
  "language_info": {
   "codemirror_mode": {
    "name": "ipython",
    "version": 3
   },
   "file_extension": ".py",
   "mimetype": "text/x-python",
   "name": "python",
   "nbconvert_exporter": "python",
   "pygments_lexer": "ipython3",
   "version": "3.7.4"
  }
 },
 "nbformat": 4,
 "nbformat_minor": 2
}
